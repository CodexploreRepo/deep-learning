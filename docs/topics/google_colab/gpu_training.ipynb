{
  "nbformat": 4,
  "nbformat_minor": 0,
  "metadata": {
    "colab": {
      "provenance": [],
      "machine_shape": "hm",
      "gpuType": "T4"
    },
    "kernelspec": {
      "name": "python3",
      "display_name": "Python 3"
    },
    "language_info": {
      "name": "python"
    },
    "gpuClass": "standard"
  },
  "cells": [
    {
      "cell_type": "code",
      "source": [
        "!nvidia-smi"
      ],
      "metadata": {
        "colab": {
          "base_uri": "https://localhost:8080/"
        },
        "id": "JQQDgbsajkRr",
        "outputId": "651da0d7-201c-4d4a-cc32-17311c4fe89c"
      },
      "execution_count": null,
      "outputs": [
        {
          "output_type": "stream",
          "name": "stdout",
          "text": [
            "Sat May  6 13:53:02 2023       \n",
            "+-----------------------------------------------------------------------------+\n",
            "| NVIDIA-SMI 525.85.12    Driver Version: 525.85.12    CUDA Version: 12.0     |\n",
            "|-------------------------------+----------------------+----------------------+\n",
            "| GPU  Name        Persistence-M| Bus-Id        Disp.A | Volatile Uncorr. ECC |\n",
            "| Fan  Temp  Perf  Pwr:Usage/Cap|         Memory-Usage | GPU-Util  Compute M. |\n",
            "|                               |                      |               MIG M. |\n",
            "|===============================+======================+======================|\n",
            "|   0  Tesla T4            Off  | 00000000:00:04.0 Off |                    0 |\n",
            "| N/A   39C    P8     9W /  70W |      0MiB / 15360MiB |      0%      Default |\n",
            "|                               |                      |                  N/A |\n",
            "+-------------------------------+----------------------+----------------------+\n",
            "                                                                               \n",
            "+-----------------------------------------------------------------------------+\n",
            "| Processes:                                                                  |\n",
            "|  GPU   GI   CI        PID   Type   Process name                  GPU Memory |\n",
            "|        ID   ID                                                   Usage      |\n",
            "|=============================================================================|\n",
            "|  No running processes found                                                 |\n",
            "+-----------------------------------------------------------------------------+\n"
          ]
        }
      ]
    },
    {
      "cell_type": "code",
      "source": [
        "# FSDL 2022 Setup\n",
        "lab_idx = None\n",
        "\n",
        "if \"bootstrap\" not in locals() or bootstrap.run:\n",
        "    # path management for Python\n",
        "    pythonpath, = !echo $PYTHONPATH\n",
        "    if \".\" not in pythonpath.split(\":\"):\n",
        "        pythonpath = \".:\" + pythonpath\n",
        "        %env PYTHONPATH={pythonpath}\n",
        "        !echo $PYTHONPATH\n",
        "\n",
        "    # get both Colab and local notebooks into the same state\n",
        "    !wget --quiet https://fsdl.me/gist-bootstrap -O bootstrap.py\n",
        "    import bootstrap\n",
        "\n",
        "    # change into the lab directory\n",
        "    bootstrap.change_to_lab_dir(lab_idx=lab_idx)\n",
        "\n",
        "    # allow \"hot-reloading\" of modules\n",
        "    %load_ext autoreload\n",
        "    %autoreload 2\n",
        "\n",
        "    bootstrap.run = False  # change to True re-run setup\n",
        "\n",
        "!pwd\n",
        "%ls"
      ],
      "metadata": {
        "colab": {
          "base_uri": "https://localhost:8080/"
        },
        "id": "QW6odZcLVl1o",
        "outputId": "ff582159-94b3-4534-cc65-07eef442a32d"
      },
      "execution_count": null,
      "outputs": [
        {
          "output_type": "stream",
          "name": "stdout",
          "text": [
            "env: PYTHONPATH=.:/env/python\n",
            ".:/env/python\n",
            "/content/fsdl-text-recognizer-2022-labs\n",
            "\u001b[0m\u001b[01;34mdata\u001b[0m/            \u001b[01;34mlab02\u001b[0m/  \u001b[01;34mlab05\u001b[0m/  \u001b[01;34mlab08\u001b[0m/       overview.ipynb  \u001b[01;34mrequirements\u001b[0m/\n",
            "environment.yml  \u001b[01;34mlab03\u001b[0m/  \u001b[01;34mlab06\u001b[0m/  LICENSE.txt  pyproject.toml  \u001b[01;34msetup\u001b[0m/\n",
            "\u001b[01;34mlab01\u001b[0m/           \u001b[01;34mlab04\u001b[0m/  \u001b[01;34mlab07\u001b[0m/  Makefile     readme.md\n"
          ]
        }
      ]
    },
    {
      "cell_type": "code",
      "source": [
        "%cd lab02"
      ],
      "metadata": {
        "colab": {
          "base_uri": "https://localhost:8080/"
        },
        "id": "xh6BhZjfWQ8H",
        "outputId": "1ddf6a5d-8fef-4398-a053-82c3d12a660f"
      },
      "execution_count": null,
      "outputs": [
        {
          "output_type": "stream",
          "name": "stdout",
          "text": [
            "/content/fsdl-text-recognizer-2022-labs/lab02\n"
          ]
        }
      ]
    },
    {
      "cell_type": "code",
      "source": [
        "!python training/run_experiment.py --max_epochs=3"
      ],
      "metadata": {
        "colab": {
          "base_uri": "https://localhost:8080/"
        },
        "id": "6-DBHBrDWS28",
        "outputId": "2fb03c6b-26b6-4bec-e31f-5c6c82d313c3"
      },
      "execution_count": null,
      "outputs": [
        {
          "output_type": "stream",
          "name": "stdout",
          "text": [
            "2023-05-06 14:00:10.879654: I tensorflow/core/platform/cpu_feature_guard.cc:182] This TensorFlow binary is optimized to use available CPU instructions in performance-critical operations.\n",
            "To enable the following instructions: AVX2 FMA, in other operations, rebuild TensorFlow with the appropriate compiler flags.\n",
            "2023-05-06 14:00:11.883775: W tensorflow/compiler/tf2tensorrt/utils/py_utils.cc:38] TF-TRT Warning: Could not find TensorRT\n",
            "Missing logger folder: training/logs/lightning_logs\n",
            "Trainer already configured with model summary callbacks: [<class 'pytorch_lightning.callbacks.model_summary.ModelSummary'>]. Skipping setting a default `ModelSummary` callback.\n",
            "GPU available: True, used: False\n",
            "TPU available: False, using: 0 TPU cores\n",
            "IPU available: False, using: 0 IPUs\n",
            "HPU available: False, using: 0 HPUs\n",
            "/usr/local/lib/python3.10/dist-packages/pytorch_lightning/trainer/trainer.py:1812: PossibleUserWarning: GPU available but not used. Set `accelerator` and `devices` using `Trainer(accelerator='gpu', devices=1)`.\n",
            "  rank_zero_warn(\n",
            "Downloading http://yann.lecun.com/exdb/mnist/train-images-idx3-ubyte.gz\n",
            "Downloading http://yann.lecun.com/exdb/mnist/train-images-idx3-ubyte.gz to /content/fsdl-text-recognizer-2022-labs/data/downloaded/MNIST/raw/train-images-idx3-ubyte.gz\n",
            "100% 9912422/9912422 [00:00<00:00, 82786994.14it/s]\n",
            "Extracting /content/fsdl-text-recognizer-2022-labs/data/downloaded/MNIST/raw/train-images-idx3-ubyte.gz to /content/fsdl-text-recognizer-2022-labs/data/downloaded/MNIST/raw\n",
            "\n",
            "Downloading http://yann.lecun.com/exdb/mnist/train-labels-idx1-ubyte.gz\n",
            "Downloading http://yann.lecun.com/exdb/mnist/train-labels-idx1-ubyte.gz to /content/fsdl-text-recognizer-2022-labs/data/downloaded/MNIST/raw/train-labels-idx1-ubyte.gz\n",
            "100% 28881/28881 [00:00<00:00, 74179849.25it/s]\n",
            "Extracting /content/fsdl-text-recognizer-2022-labs/data/downloaded/MNIST/raw/train-labels-idx1-ubyte.gz to /content/fsdl-text-recognizer-2022-labs/data/downloaded/MNIST/raw\n",
            "\n",
            "Downloading http://yann.lecun.com/exdb/mnist/t10k-images-idx3-ubyte.gz\n",
            "Downloading http://yann.lecun.com/exdb/mnist/t10k-images-idx3-ubyte.gz to /content/fsdl-text-recognizer-2022-labs/data/downloaded/MNIST/raw/t10k-images-idx3-ubyte.gz\n",
            "100% 1648877/1648877 [00:00<00:00, 26352477.14it/s]\n",
            "Extracting /content/fsdl-text-recognizer-2022-labs/data/downloaded/MNIST/raw/t10k-images-idx3-ubyte.gz to /content/fsdl-text-recognizer-2022-labs/data/downloaded/MNIST/raw\n",
            "\n",
            "Downloading http://yann.lecun.com/exdb/mnist/t10k-labels-idx1-ubyte.gz\n",
            "Downloading http://yann.lecun.com/exdb/mnist/t10k-labels-idx1-ubyte.gz to /content/fsdl-text-recognizer-2022-labs/data/downloaded/MNIST/raw/t10k-labels-idx1-ubyte.gz\n",
            "100% 4542/4542 [00:00<00:00, 31436516.12it/s]\n",
            "Extracting /content/fsdl-text-recognizer-2022-labs/data/downloaded/MNIST/raw/t10k-labels-idx1-ubyte.gz to /content/fsdl-text-recognizer-2022-labs/data/downloaded/MNIST/raw\n",
            "\n",
            "\n",
            "  | Name          | Type     | Params\n",
            "-------------------------------------------\n",
            "0 | model         | MLP      | 936 K \n",
            "1 | model.fc1     | Linear   | 803 K \n",
            "2 | model.dropout | Dropout  | 0     \n",
            "3 | model.fc2     | Linear   | 131 K \n",
            "4 | model.fc3     | Linear   | 1.3 K \n",
            "5 | train_acc     | Accuracy | 0     \n",
            "6 | val_acc       | Accuracy | 0     \n",
            "7 | test_acc      | Accuracy | 0     \n",
            "-------------------------------------------\n",
            "936 K     Trainable params\n",
            "0         Non-trainable params\n",
            "936 K     Total params\n",
            "3.745     Total estimated model params size (MB)\n",
            "Epoch 0:  89% 420/470 [00:10<00:01, 40.86it/s, loss=0.215, v_num=0]\n",
            "Validation: 0it [00:00, ?it/s]\u001b[A\n",
            "Validation:   0% 0/40 [00:00<?, ?it/s]\u001b[A\n",
            "Epoch 0:  94% 440/470 [00:10<00:00, 40.74it/s, loss=0.215, v_num=0]\n",
            "Validation DataLoader 0:  50% 20/40 [00:00<00:00, 47.45it/s]\u001b[A\n",
            "Epoch 0:  98% 460/470 [00:11<00:00, 40.78it/s, loss=0.215, v_num=0]\n",
            "Validation DataLoader 0: 100% 40/40 [00:00<00:00, 56.23it/s]\u001b[A\n",
            "Epoch 0: 100% 470/470 [00:11<00:00, 41.40it/s, loss=0.19, v_num=0, validation/loss=0.150, validation/acc=0.958]\n",
            "Epoch 1:  89% 420/470 [00:09<00:01, 44.01it/s, loss=0.155, v_num=0, validation/loss=0.150, validation/acc=0.958]\n",
            "Validation: 0it [00:00, ?it/s]\u001b[A\n",
            "Validation:   0% 0/40 [00:00<?, ?it/s]\u001b[A\n",
            "Epoch 1:  94% 440/470 [00:10<00:00, 43.83it/s, loss=0.155, v_num=0, validation/loss=0.150, validation/acc=0.958]\n",
            "Validation DataLoader 0:  50% 20/40 [00:00<00:00, 58.63it/s]\u001b[A\n",
            "Epoch 1:  98% 460/470 [00:10<00:00, 44.52it/s, loss=0.155, v_num=0, validation/loss=0.150, validation/acc=0.958]\n",
            "Validation DataLoader 0: 100% 40/40 [00:00<00:00, 65.89it/s]\u001b[A\n",
            "Epoch 1: 100% 470/470 [00:10<00:00, 44.79it/s, loss=0.167, v_num=0, validation/loss=0.140, validation/acc=0.960]\n",
            "Epoch 2:  89% 420/470 [00:10<00:01, 38.39it/s, loss=0.131, v_num=0, validation/loss=0.140, validation/acc=0.960]\n",
            "Validation: 0it [00:00, ?it/s]\u001b[A\n",
            "Validation:   0% 0/40 [00:00<?, ?it/s]\u001b[A\n",
            "Epoch 2:  94% 440/470 [00:11<00:00, 38.53it/s, loss=0.131, v_num=0, validation/loss=0.140, validation/acc=0.960]\n",
            "Validation DataLoader 0:  50% 20/40 [00:00<00:00, 54.58it/s]\u001b[A\n",
            "Epoch 2:  98% 460/470 [00:11<00:00, 39.00it/s, loss=0.131, v_num=0, validation/loss=0.140, validation/acc=0.960]\n",
            "Validation DataLoader 0: 100% 40/40 [00:00<00:00, 64.60it/s]\u001b[A\n",
            "Epoch 2: 100% 470/470 [00:11<00:00, 39.52it/s, loss=0.121, v_num=0, validation/loss=0.102, validation/acc=0.971]\n",
            "Epoch 2: 100% 470/470 [00:11<00:00, 39.41it/s, loss=0.121, v_num=0, validation/loss=0.102, validation/acc=0.971]\n",
            "Best model saved at: /content/fsdl-text-recognizer-2022-labs/lab02/training/logs/lightning_logs/version_0/epoch=0002-validation.loss=0.102.ckpt\n",
            "Restoring states from the checkpoint path at /content/fsdl-text-recognizer-2022-labs/lab02/training/logs/lightning_logs/version_0/epoch=0002-validation.loss=0.102.ckpt\n",
            "Loaded model weights from checkpoint at /content/fsdl-text-recognizer-2022-labs/lab02/training/logs/lightning_logs/version_0/epoch=0002-validation.loss=0.102.ckpt\n",
            "Testing DataLoader 0: 100% 79/79 [00:01<00:00, 64.02it/s]\n",
            "┏━━━━━━━━━━━━━━━━━━━━━━━━━━━┳━━━━━━━━━━━━━━━━━━━━━━━━━━━┓\n",
            "┃\u001b[1m \u001b[0m\u001b[1m       Test metric       \u001b[0m\u001b[1m \u001b[0m┃\u001b[1m \u001b[0m\u001b[1m      DataLoader 0       \u001b[0m\u001b[1m \u001b[0m┃\n",
            "┡━━━━━━━━━━━━━━━━━━━━━━━━━━━╇━━━━━━━━━━━━━━━━━━━━━━━━━━━┩\n",
            "│\u001b[36m \u001b[0m\u001b[36m        test/acc         \u001b[0m\u001b[36m \u001b[0m│\u001b[35m \u001b[0m\u001b[35m   0.9728000164031982    \u001b[0m\u001b[35m \u001b[0m│\n",
            "│\u001b[36m \u001b[0m\u001b[36m        test/loss        \u001b[0m\u001b[36m \u001b[0m│\u001b[35m \u001b[0m\u001b[35m   0.08854060620069504   \u001b[0m\u001b[35m \u001b[0m│\n",
            "└───────────────────────────┴───────────────────────────┘\n"
          ]
        }
      ]
    },
    {
      "cell_type": "code",
      "source": [
        "!python training/run_experiment.py --max_epochs=3 --gpus=-1"
      ],
      "metadata": {
        "colab": {
          "base_uri": "https://localhost:8080/"
        },
        "id": "9pZ3YeaxXMvP",
        "outputId": "ae743440-13f9-4b29-873e-7573450328ca"
      },
      "execution_count": null,
      "outputs": [
        {
          "output_type": "stream",
          "name": "stdout",
          "text": [
            "2023-05-06 14:01:27.784339: I tensorflow/core/platform/cpu_feature_guard.cc:182] This TensorFlow binary is optimized to use available CPU instructions in performance-critical operations.\n",
            "To enable the following instructions: AVX2 FMA, in other operations, rebuild TensorFlow with the appropriate compiler flags.\n",
            "2023-05-06 14:01:28.742138: W tensorflow/compiler/tf2tensorrt/utils/py_utils.cc:38] TF-TRT Warning: Could not find TensorRT\n",
            "Trainer already configured with model summary callbacks: [<class 'pytorch_lightning.callbacks.model_summary.ModelSummary'>]. Skipping setting a default `ModelSummary` callback.\n",
            "GPU available: True, used: True\n",
            "TPU available: False, using: 0 TPU cores\n",
            "IPU available: False, using: 0 IPUs\n",
            "HPU available: False, using: 0 HPUs\n",
            "LOCAL_RANK: 0 - CUDA_VISIBLE_DEVICES: [0]\n",
            "\n",
            "  | Name          | Type     | Params\n",
            "-------------------------------------------\n",
            "0 | model         | MLP      | 936 K \n",
            "1 | model.fc1     | Linear   | 803 K \n",
            "2 | model.dropout | Dropout  | 0     \n",
            "3 | model.fc2     | Linear   | 131 K \n",
            "4 | model.fc3     | Linear   | 1.3 K \n",
            "5 | train_acc     | Accuracy | 0     \n",
            "6 | val_acc       | Accuracy | 0     \n",
            "7 | test_acc      | Accuracy | 0     \n",
            "-------------------------------------------\n",
            "936 K     Trainable params\n",
            "0         Non-trainable params\n",
            "936 K     Total params\n",
            "3.745     Total estimated model params size (MB)\n",
            "Epoch 0:  89% 420/470 [00:06<00:00, 64.23it/s, loss=0.206, v_num=1]\n",
            "Validation: 0it [00:00, ?it/s]\u001b[A\n",
            "Validation:   0% 0/40 [00:00<?, ?it/s]\u001b[A\n",
            "Epoch 0:  94% 440/470 [00:07<00:00, 62.41it/s, loss=0.206, v_num=1]\n",
            "Validation DataLoader 0:  50% 20/40 [00:00<00:00, 60.96it/s]\u001b[A\n",
            "Epoch 0:  98% 460/470 [00:07<00:00, 61.67it/s, loss=0.206, v_num=1]\n",
            "Validation DataLoader 0: 100% 40/40 [00:00<00:00, 62.85it/s]\u001b[A\n",
            "Epoch 0: 100% 470/470 [00:07<00:00, 62.17it/s, loss=0.211, v_num=1, validation/loss=0.161, validation/acc=0.955]\n",
            "Epoch 1:  89% 420/470 [00:07<00:00, 54.41it/s, loss=0.158, v_num=1, validation/loss=0.161, validation/acc=0.955]\n",
            "Validation: 0it [00:00, ?it/s]\u001b[A\n",
            "Validation:   0% 0/40 [00:00<?, ?it/s]\u001b[A\n",
            "Epoch 1:  94% 440/470 [00:08<00:00, 53.72it/s, loss=0.158, v_num=1, validation/loss=0.161, validation/acc=0.955]\n",
            "Validation DataLoader 0:  50% 20/40 [00:00<00:00, 80.50it/s]\u001b[A\n",
            "Epoch 1:  98% 460/470 [00:08<00:00, 54.40it/s, loss=0.158, v_num=1, validation/loss=0.161, validation/acc=0.955]\n",
            "Validation DataLoader 0: 100% 40/40 [00:00<00:00, 81.12it/s]\u001b[A\n",
            "Epoch 1: 100% 470/470 [00:08<00:00, 54.83it/s, loss=0.143, v_num=1, validation/loss=0.113, validation/acc=0.967]\n",
            "Epoch 2:  89% 420/470 [00:06<00:00, 61.85it/s, loss=0.163, v_num=1, validation/loss=0.113, validation/acc=0.967]\n",
            "Validation: 0it [00:00, ?it/s]\u001b[A\n",
            "Validation:   0% 0/40 [00:00<?, ?it/s]\u001b[A\n",
            "Epoch 2:  94% 440/470 [00:07<00:00, 60.76it/s, loss=0.163, v_num=1, validation/loss=0.113, validation/acc=0.967]\n",
            "Validation DataLoader 0:  50% 20/40 [00:00<00:00, 78.76it/s]\u001b[A\n",
            "Epoch 2:  98% 460/470 [00:07<00:00, 61.06it/s, loss=0.163, v_num=1, validation/loss=0.113, validation/acc=0.967]\n",
            "Validation DataLoader 0: 100% 40/40 [00:00<00:00, 80.19it/s]\u001b[A\n",
            "Epoch 2: 100% 470/470 [00:07<00:00, 61.52it/s, loss=0.154, v_num=1, validation/loss=0.107, validation/acc=0.969]\n",
            "Epoch 2: 100% 470/470 [00:07<00:00, 61.21it/s, loss=0.154, v_num=1, validation/loss=0.107, validation/acc=0.969]\n",
            "Best model saved at: /content/fsdl-text-recognizer-2022-labs/lab02/training/logs/lightning_logs/version_1/epoch=0002-validation.loss=0.107.ckpt\n",
            "Restoring states from the checkpoint path at /content/fsdl-text-recognizer-2022-labs/lab02/training/logs/lightning_logs/version_1/epoch=0002-validation.loss=0.107.ckpt\n",
            "LOCAL_RANK: 0 - CUDA_VISIBLE_DEVICES: [0]\n",
            "Loaded model weights from checkpoint at /content/fsdl-text-recognizer-2022-labs/lab02/training/logs/lightning_logs/version_1/epoch=0002-validation.loss=0.107.ckpt\n",
            "Testing DataLoader 0: 100% 79/79 [00:01<00:00, 68.16it/s]\n",
            "┏━━━━━━━━━━━━━━━━━━━━━━━━━━━┳━━━━━━━━━━━━━━━━━━━━━━━━━━━┓\n",
            "┃\u001b[1m \u001b[0m\u001b[1m       Test metric       \u001b[0m\u001b[1m \u001b[0m┃\u001b[1m \u001b[0m\u001b[1m      DataLoader 0       \u001b[0m\u001b[1m \u001b[0m┃\n",
            "┡━━━━━━━━━━━━━━━━━━━━━━━━━━━╇━━━━━━━━━━━━━━━━━━━━━━━━━━━┩\n",
            "│\u001b[36m \u001b[0m\u001b[36m        test/acc         \u001b[0m\u001b[36m \u001b[0m│\u001b[35m \u001b[0m\u001b[35m   0.9721999764442444    \u001b[0m\u001b[35m \u001b[0m│\n",
            "│\u001b[36m \u001b[0m\u001b[36m        test/loss        \u001b[0m\u001b[36m \u001b[0m│\u001b[35m \u001b[0m\u001b[35m   0.08856335282325745   \u001b[0m\u001b[35m \u001b[0m│\n",
            "└───────────────────────────┴───────────────────────────┘\n"
          ]
        }
      ]
    },
    {
      "cell_type": "code",
      "source": [],
      "metadata": {
        "id": "xo1CcTALXgYR"
      },
      "execution_count": null,
      "outputs": []
    }
  ]
}